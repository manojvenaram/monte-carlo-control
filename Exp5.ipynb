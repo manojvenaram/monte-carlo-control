{
  "nbformat": 4,
  "nbformat_minor": 0,
  "metadata": {
    "colab": {
      "provenance": [],
      "include_colab_link": true
    },
    "kernelspec": {
      "name": "python3",
      "display_name": "Python 3"
    },
    "language_info": {
      "name": "python"
    }
  },
  "cells": [
    {
      "cell_type": "markdown",
      "metadata": {
        "id": "view-in-github",
        "colab_type": "text"
      },
      "source": [
        "<a href=\"https://colab.research.google.com/github/manojvenaram/monte-carlo-control/blob/main/Exp5.ipynb\" target=\"_parent\"><img src=\"https://colab.research.google.com/assets/colab-badge.svg\" alt=\"Open In Colab\"/></a>"
      ]
    },
    {
      "cell_type": "code",
      "source": [
        "pip install git+https://github.com/mimoralea/gym-walk#egg=gym-walk"
      ],
      "metadata": {
        "colab": {
          "base_uri": "https://localhost:8080/"
        },
        "id": "uk0xxOBJW0Ib",
        "outputId": "9c70e579-033f-475b-8983-66f20720ad09"
      },
      "execution_count": 1,
      "outputs": [
        {
          "output_type": "stream",
          "name": "stdout",
          "text": [
            "Collecting gym-walk\n",
            "  Cloning https://github.com/mimoralea/gym-walk to /tmp/pip-install-c_9a6rfk/gym-walk_ea2994e7fb6e4371afdaf19977de2fb5\n",
            "  Running command git clone --filter=blob:none --quiet https://github.com/mimoralea/gym-walk /tmp/pip-install-c_9a6rfk/gym-walk_ea2994e7fb6e4371afdaf19977de2fb5\n",
            "  Resolved https://github.com/mimoralea/gym-walk to commit 5999016267d6de2f5a63307fb00dfd63de319ac1\n",
            "  Preparing metadata (setup.py) ... \u001b[?25l\u001b[?25hdone\n",
            "Requirement already satisfied: gym in /usr/local/lib/python3.10/dist-packages (from gym-walk) (0.25.2)\n",
            "Requirement already satisfied: numpy>=1.18.0 in /usr/local/lib/python3.10/dist-packages (from gym->gym-walk) (1.25.2)\n",
            "Requirement already satisfied: cloudpickle>=1.2.0 in /usr/local/lib/python3.10/dist-packages (from gym->gym-walk) (2.2.1)\n",
            "Requirement already satisfied: gym-notices>=0.0.4 in /usr/local/lib/python3.10/dist-packages (from gym->gym-walk) (0.0.8)\n",
            "Building wheels for collected packages: gym-walk\n",
            "  Building wheel for gym-walk (setup.py) ... \u001b[?25l\u001b[?25hdone\n",
            "  Created wheel for gym-walk: filename=gym_walk-0.0.2-py3-none-any.whl size=4053 sha256=01e513276debdfa6e720e952d4623b4abb95efc83901fdfd80fba26e5dcd28c8\n",
            "  Stored in directory: /tmp/pip-ephem-wheel-cache-r3dqybsv/wheels/24/fe/c4/0cbc7511d29265bad7e28a09311db3f87f0cafba74af54d530\n",
            "Successfully built gym-walk\n",
            "Installing collected packages: gym-walk\n",
            "Successfully installed gym-walk-0.0.2\n"
          ]
        }
      ]
    },
    {
      "cell_type": "code",
      "execution_count": 2,
      "metadata": {
        "id": "9OMXIATFWq53"
      },
      "outputs": [],
      "source": [
        "import warnings ; warnings.filterwarnings('ignore')\n",
        "\n",
        "import gym, gym_walk\n",
        "import numpy as np\n",
        "\n",
        "import random\n",
        "import warnings\n",
        "\n",
        "warnings.filterwarnings('ignore', category=DeprecationWarning)\n",
        "np.set_printoptions(suppress=True)\n",
        "random.seed(123); np.random.seed(123)\n",
        "import matplotlib.pyplot as plt\n"
      ]
    },
    {
      "cell_type": "code",
      "source": [
        "def print_policy(pi, P, action_symbols=('<', 'v', '>', '^'), n_cols=4, title='Policy:'):\n",
        "    print(title)\n",
        "    arrs = {k:v for k,v in enumerate(action_symbols)}\n",
        "    for s in range(len(P)):\n",
        "        a = pi(s)\n",
        "        print(\"| \", end=\"\")\n",
        "        if np.all([done for action in P[s].values() for _, _, _, done in action]):\n",
        "            print(\"\".rjust(9), end=\" \")\n",
        "        else:\n",
        "            print(str(s).zfill(2), arrs[a].rjust(6), end=\" \")\n",
        "        if (s + 1) % n_cols == 0: print(\"|\")"
      ],
      "metadata": {
        "id": "p6NHSUyAW7jf"
      },
      "execution_count": 3,
      "outputs": []
    },
    {
      "cell_type": "code",
      "source": [
        "def print_state_value_function(V, P, n_cols=4, prec=4, title='State-value function:'):\n",
        "    print(title)\n",
        "    for s in range(len(P)):\n",
        "        v = V[s]\n",
        "        print(\"| \", end=\"\")\n",
        "        if np.all([done for action in P[s].values() for _, _, _, done in action]):\n",
        "            print(\"\".rjust(9), end=\" \")\n",
        "        else:\n",
        "            print(str(s).zfill(2), '{}'.format(np.round(v, prec)).rjust(6), end=\" \")\n",
        "        if (s + 1) % n_cols == 0: print(\"|\")"
      ],
      "metadata": {
        "id": "v9T35ZdtXAAE"
      },
      "execution_count": 4,
      "outputs": []
    },
    {
      "cell_type": "code",
      "source": [
        "def probability_success(env, pi, goal_state, n_episodes=100, max_steps=200):\n",
        "    random.seed(123); np.random.seed(123) ; env.seed(123)\n",
        "    results = []\n",
        "    for _ in range(n_episodes):\n",
        "        state, done, steps = env.reset(), False, 0\n",
        "        while not done and steps < max_steps:\n",
        "            state, _, done, h = env.step(pi(state))\n",
        "            steps += 1\n",
        "        results.append(state == goal_state)\n",
        "    return np.sum(results)/len(results)"
      ],
      "metadata": {
        "id": "mce4Eqw_XEyG"
      },
      "execution_count": 5,
      "outputs": []
    },
    {
      "cell_type": "code",
      "source": [
        "def mean_return(env, pi, n_episodes=100, max_steps=200):\n",
        "    random.seed(123); np.random.seed(123) ; env.seed(123)\n",
        "    results = []\n",
        "    for _ in range(n_episodes):\n",
        "        state, done, steps = env.reset(), False, 0\n",
        "        results.append(0.0)\n",
        "        while not done and steps < max_steps:\n",
        "            state, reward, done, _ = env.step(pi(state))\n",
        "            results[-1] += reward\n",
        "            steps += 1\n",
        "    return np.mean(results)"
      ],
      "metadata": {
        "id": "fPPUrV3PXMZq"
      },
      "execution_count": 6,
      "outputs": []
    },
    {
      "cell_type": "code",
      "source": [
        "env = gym.make('FrozenLake-v1')\n",
        "P = env.env.P\n",
        "init_state = env.reset()\n",
        "goal_state = 15\n",
        "LEFT, RIGHT = range(2)"
      ],
      "metadata": {
        "id": "b7wwh-B3XPAS"
      },
      "execution_count": 7,
      "outputs": []
    },
    {
      "cell_type": "code",
      "source": [
        "def decay_schedule(init_value,min_value,decay_ratio,max_steps,log_start=-2,log_base=10):\n",
        "  decay_steps=int(max_steps*decay_ratio)\n",
        "  rem_steps=max_steps=max_steps-decay_steps\n",
        "  values=np.logspace(log_start,0,decay_steps,base=log_base,endpoint=True)[::-1]\n",
        "  values=(values-values.min())/(values.max()-values.min())\n",
        "  values=(init_value-min_value)*values+min_value\n",
        "  values=np.pad(values,(0,rem_steps),'edge')\n",
        "  return values"
      ],
      "metadata": {
        "id": "uYxPDUWJagm2"
      },
      "execution_count": 8,
      "outputs": []
    },
    {
      "cell_type": "code",
      "source": [
        "from itertools import count\n",
        "def generate_trajectory(select_action,Q,epsilon,env,max_steps=20):\n",
        "  done,trajectory=False,[]\n",
        "  while not done:\n",
        "    state=env.reset()\n",
        "    for t in count():\n",
        "      action=select_action(state,Q,epsilon)\n",
        "      next_state,reward,done,_=env.step(action)\n",
        "      experience=(state,action,reward,next_state,done)\n",
        "      trajectory.append(experience)\n",
        "      if done:\n",
        "        break\n",
        "      if t>=max_steps-1:\n",
        "        trajectory=[]\n",
        "        break\n",
        "      state=next_state\n",
        "  return np.array(trajectory,object)"
      ],
      "metadata": {
        "id": "S1FmxoPZcm5Q"
      },
      "execution_count": 9,
      "outputs": []
    },
    {
      "cell_type": "code",
      "source": [
        "from tqdm import tqdm\n",
        "def mc_control(env, gamma=1.0, init_alpha=0.5, min_alpha=0.01, alpha_decay_ratio=0.5,\n",
        "               init_epsilon=1.0, min_epsilon=0.1, epsilon_decay_ratio=0.9,\n",
        "               n_episodes=150000, max_steps=200, first_visit=True):\n",
        "  nS, nA = env.observation_space.n, env.action_space.n\n",
        "  discounts=np.logspace(0,max_steps,num=max_steps,base=gamma,endpoint=False)\n",
        "  alphas=decay_schedule(init_alpha,min_alpha,alpha_decay_ratio,n_episodes)\n",
        "  epsilons=decay_schedule(init_epsilon,min_epsilon,epsilon_decay_ratio,n_episodes)\n",
        "  pi_track=[]\n",
        "  Q = np.zeros((nS, nA), dtype=np.float64)\n",
        "  Q_track = np.zeros((n_episodes, nS, nA), dtype=np.float64)\n",
        "  select_action=lambda state,Q,epsilon:\\\n",
        "    np.argmax(Q[state])\\\n",
        "    if np.random.random()>epsilon\\\n",
        "    else np.random.randint(len(Q[state]))\n",
        "  for e in tqdm(range(n_episodes),leave=False):\n",
        "    trajectory=generate_trajectory(select_action,Q,epsilons[e],env,max_steps)\n",
        "    visited=np.zeros((nS,nA),dtype=bool)\n",
        "    for t,(state,action,reward,_,_) in enumerate(trajectory):\n",
        "      if visited[state][action] and first_visit:\n",
        "        continue\n",
        "      visited[state][action]=True\n",
        "      n_steps=len(trajectory[t:])\n",
        "      G=np.sum(discounts[:n_steps]*trajectory[t:,2])\n",
        "      Q[state][action]=Q[state][action]+alphas[e]*(G-Q[state][action])\n",
        "    Q_track[e]=Q\n",
        "    pi_track.append(np.argmax(Q,axis=1))\n",
        "  V=np.max(Q,axis=1)\n",
        "  pi=lambda s: {s:a for s,a in enumerate(np.argmax(Q,axis=1))}[s]\n",
        "  return Q,V,pi,Q_track,pi_track\n"
      ],
      "metadata": {
        "id": "IX--qz4kdYc6"
      },
      "execution_count": 10,
      "outputs": []
    },
    {
      "cell_type": "code",
      "source": [
        "def results(env, optimal_pi, goal_state, seed=123):\n",
        "    success_rate = probability_success(env, optimal_pi, goal_state=goal_state)\n",
        "    avg_return = mean_return(env, optimal_pi)\n",
        "\n",
        "    print(f'Reaches goal {success_rate:.2%}. Obtains an average undiscounted return of: {avg_return:.4f}.')\n",
        "\n",
        "goal_state = 15"
      ],
      "metadata": {
        "id": "GQ95b_0KhIsH"
      },
      "execution_count": 11,
      "outputs": []
    },
    {
      "cell_type": "code",
      "source": [
        "Q, V, pi,_,_ = mc_control (env)"
      ],
      "metadata": {
        "colab": {
          "base_uri": "https://localhost:8080/"
        },
        "id": "z-6M0IpSjSI8",
        "outputId": "d0b8c8a7-a7ed-4be6-fa4a-17499e3160af"
      },
      "execution_count": 12,
      "outputs": [
        {
          "output_type": "stream",
          "name": "stderr",
          "text": []
        }
      ]
    },
    {
      "cell_type": "code",
      "source": [
        "results(env, pi, goal_state=goal_state)"
      ],
      "metadata": {
        "colab": {
          "base_uri": "https://localhost:8080/"
        },
        "id": "qOsL9EtbkHOy",
        "outputId": "a3a5324f-ba4b-4797-8dc1-f66b133d5b56"
      },
      "execution_count": 13,
      "outputs": [
        {
          "output_type": "stream",
          "name": "stdout",
          "text": [
            "Reaches goal 71.00%. Obtains an average undiscounted return of: 0.7100.\n"
          ]
        }
      ]
    },
    {
      "cell_type": "code",
      "source": [
        "print_policy(pi, P)"
      ],
      "metadata": {
        "colab": {
          "base_uri": "https://localhost:8080/"
        },
        "id": "WtCpz7xXkgRf",
        "outputId": "5c647269-0d35-4c18-eab5-ce15c31c0a2d"
      },
      "execution_count": 14,
      "outputs": [
        {
          "output_type": "stream",
          "name": "stdout",
          "text": [
            "Policy:\n",
            "| 00      < | 01      ^ | 02      ^ | 03      ^ |\n",
            "| 04      < |           | 06      > |           |\n",
            "| 08      ^ | 09      v | 10      < |           |\n",
            "|           | 13      > | 14      v |           |\n"
          ]
        }
      ]
    },
    {
      "cell_type": "code",
      "source": [
        "print_state_value_function(Q, P, n_cols=4, prec=4, title='Action-value function:')"
      ],
      "metadata": {
        "colab": {
          "base_uri": "https://localhost:8080/"
        },
        "id": "Kaov97P8kj-d",
        "outputId": "c6061900-2a93-4e35-a765-d7fbc5f78f91"
      },
      "execution_count": 15,
      "outputs": [
        {
          "output_type": "stream",
          "name": "stdout",
          "text": [
            "Action-value function:\n",
            "| 00 [0.4125 0.3321 0.3104 0.3407] | 01 [0.195  0.2064 0.1638 0.3288] | 02 [0.1744 0.1781 0.168  0.2455] | 03 [0.1299 0.1305 0.0718 0.2279] |\n",
            "| 04 [0.4163 0.2472 0.2692 0.2467] |           | 06 [0.1743 0.1838 0.2033 0.0955] |           |\n",
            "| 08 [0.3025 0.2875 0.2444 0.4565] | 09 [0.3107 0.5219 0.3803 0.3181] | 10 [0.4971 0.4139 0.3682 0.2357] |           |\n",
            "|           | 13 [0.36   0.5086 0.637  0.4199] | 14 [0.6384 0.7766 0.7339 0.6524] |           |\n"
          ]
        }
      ]
    },
    {
      "cell_type": "code",
      "source": [
        "print_state_value_function(V, P, n_cols=4, prec=4, title='State-value function:')"
      ],
      "metadata": {
        "colab": {
          "base_uri": "https://localhost:8080/"
        },
        "id": "3cGJC8aDlXQI",
        "outputId": "da6f5e68-1bb8-49fb-cc10-664d7dfa08a4"
      },
      "execution_count": 16,
      "outputs": [
        {
          "output_type": "stream",
          "name": "stdout",
          "text": [
            "State-value function:\n",
            "| 00 0.4125 | 01 0.3288 | 02 0.2455 | 03 0.2279 |\n",
            "| 04 0.4163 |           | 06 0.2033 |           |\n",
            "| 08 0.4565 | 09 0.5219 | 10 0.4971 |           |\n",
            "|           | 13  0.637 | 14 0.7766 |           |\n"
          ]
        }
      ]
    },
    {
      "cell_type": "code",
      "source": [],
      "metadata": {
        "id": "BXwX1q_1lu7i"
      },
      "execution_count": 16,
      "outputs": []
    }
  ]
}